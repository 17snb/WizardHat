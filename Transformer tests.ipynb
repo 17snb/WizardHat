{
 "cells": [
  {
   "cell_type": "code",
   "execution_count": 1,
   "metadata": {},
   "outputs": [],
   "source": [
    "%load_ext autoreload\n",
    "%autoreload 2"
   ]
  },
  {
   "cell_type": "code",
   "execution_count": 11,
   "metadata": {},
   "outputs": [],
   "source": [
    "import time\n",
    "\n",
    "import ble2lsl as b2l\n",
    "from ble2lsl.devices import muse2016\n",
    "import wizardhat.acquire as acquire\n",
    "import wizardhat.plot as plot\n",
    "import wizardhat.transform as transform\n",
    "\n",
    "import numpy as np"
   ]
  },
  {
   "cell_type": "code",
   "execution_count": 3,
   "metadata": {},
   "outputs": [],
   "source": [
    "streamer = b2l.Dummy(muse2016)"
   ]
  },
  {
   "cell_type": "code",
   "execution_count": 4,
   "metadata": {},
   "outputs": [
    {
     "name": "stdout",
     "output_type": "stream",
     "text": [
      "Using source with ID Muse-DUMMY\n"
     ]
    }
   ],
   "source": [
    "receiver = acquire.Receiver()"
   ]
  },
  {
   "cell_type": "code",
   "execution_count": 8,
   "metadata": {},
   "outputs": [
    {
     "data": {
      "text/plain": [
       "array([(0.        ,  0.        ,  0.        ,  0.        ,  0.        ,  0.        ),\n",
       "       (0.        ,  0.        ,  0.        ,  0.        ,  0.        ,  0.        ),\n",
       "       (0.        ,  0.        ,  0.        ,  0.        ,  0.        ,  0.        ),\n",
       "       ...,\n",
       "       (8.5703125 , -1.38269269,  0.84975433,  0.12161112,  0.50620729, -0.95191711),\n",
       "       (8.57421875, -0.57067949, -0.17990509, -2.94129801, -1.69751716, -1.9473654 ),\n",
       "       (8.578125  , -1.58944774, -2.90202522, -1.37271655, -1.04745209, -3.40356755)],\n",
       "      dtype=[('time', '<f8'), ('TP9', '<f8'), ('AF7', '<f8'), ('AF8', '<f8'), ('TP10', '<f8'), ('Right AUX', '<f8')])"
      ]
     },
     "execution_count": 8,
     "metadata": {},
     "output_type": "execute_result"
    }
   ],
   "source": [
    "receiver.buffers['EEG'].data"
   ]
  },
  {
   "cell_type": "code",
   "execution_count": 12,
   "metadata": {},
   "outputs": [],
   "source": [
    "# brute check that no samples are missing over a short interval\n",
    "for i in range(1000):\n",
    "    data = receiver.buffers['EEG'].unstructured\n",
    "    timestamps = receiver.buffers['EEG'].timestamps\n",
    "    if len(set(np.diff(timestamps))) > 1:\n",
    "        raise ValueError()\n",
    "    if not np.all(np.sum(data, axis=1)):\n",
    "        raise ValueError()\n",
    "    time.sleep(1 / 256)"
   ]
  },
  {
   "cell_type": "code",
   "execution_count": 42,
   "metadata": {
    "scrolled": true
   },
   "outputs": [
    {
     "data": {
      "text/plain": [
       "(2560, 5, 129)"
      ]
     },
     "execution_count": 42,
     "metadata": {},
     "output_type": "execute_result"
    }
   ],
   "source": [
    "psd_transf.buffer_out.unstructured.shape"
   ]
  },
  {
   "cell_type": "code",
   "execution_count": 13,
   "metadata": {},
   "outputs": [],
   "source": [
    "psd_transformer = transform.PSD(receiver.buffers['EEG'])"
   ]
  },
  {
   "cell_type": "code",
   "execution_count": 15,
   "metadata": {},
   "outputs": [
    {
     "data": {
      "text/plain": [
       "array([[[0.        , 0.        , 0.        , ..., 0.        ,\n",
       "         0.        , 0.        ],\n",
       "        [0.        , 0.        , 0.        , ..., 0.        ,\n",
       "         0.        , 0.        ],\n",
       "        [0.        , 0.        , 0.        , ..., 0.        ,\n",
       "         0.        , 0.        ],\n",
       "        [0.        , 0.        , 0.        , ..., 0.        ,\n",
       "         0.        , 0.        ],\n",
       "        [0.        , 0.        , 0.        , ..., 0.        ,\n",
       "         0.        , 0.        ]],\n",
       "\n",
       "       [[0.        , 0.        , 0.        , ..., 0.        ,\n",
       "         0.        , 0.        ],\n",
       "        [0.        , 0.        , 0.        , ..., 0.        ,\n",
       "         0.        , 0.        ],\n",
       "        [0.        , 0.        , 0.        , ..., 0.        ,\n",
       "         0.        , 0.        ],\n",
       "        [0.        , 0.        , 0.        , ..., 0.        ,\n",
       "         0.        , 0.        ],\n",
       "        [0.        , 0.        , 0.        , ..., 0.        ,\n",
       "         0.        , 0.        ]],\n",
       "\n",
       "       [[0.        , 0.        , 0.        , ..., 0.        ,\n",
       "         0.        , 0.        ],\n",
       "        [0.        , 0.        , 0.        , ..., 0.        ,\n",
       "         0.        , 0.        ],\n",
       "        [0.        , 0.        , 0.        , ..., 0.        ,\n",
       "         0.        , 0.        ],\n",
       "        [0.        , 0.        , 0.        , ..., 0.        ,\n",
       "         0.        , 0.        ],\n",
       "        [0.        , 0.        , 0.        , ..., 0.        ,\n",
       "         0.        , 0.        ]],\n",
       "\n",
       "       ...,\n",
       "\n",
       "       [[0.11767675, 0.1033709 , 0.0270166 , ..., 0.11656147,\n",
       "         0.05085899, 0.07713313],\n",
       "        [0.08881872, 0.09599047, 0.02885499, ..., 0.12189316,\n",
       "         0.13227704, 0.10603118],\n",
       "        [0.1564292 , 0.16812567, 0.08539713, ..., 0.01893318,\n",
       "         0.07324164, 0.00956931],\n",
       "        [0.10263097, 0.11323943, 0.13397617, ..., 0.03019216,\n",
       "         0.06727773, 0.06287124],\n",
       "        [0.10468653, 0.13290311, 0.08652264, ..., 0.05707092,\n",
       "         0.03551601, 0.05058831]],\n",
       "\n",
       "       [[0.03866981, 0.00841778, 0.06812096, ..., 0.1510513 ,\n",
       "         0.10911937, 0.06473076],\n",
       "        [0.06041278, 0.07894915, 0.05952047, ..., 0.17451026,\n",
       "         0.14882617, 0.0253812 ],\n",
       "        [0.02065281, 0.07502818, 0.09588288, ..., 0.06751297,\n",
       "         0.08796932, 0.07057287],\n",
       "        [0.00184542, 0.0595819 , 0.10709155, ..., 0.0426486 ,\n",
       "         0.07528623, 0.03880438],\n",
       "        [0.02971874, 0.03184396, 0.11000405, ..., 0.0525257 ,\n",
       "         0.01990492, 0.01825011]],\n",
       "\n",
       "       [[0.1249014 , 0.09450823, 0.06406696, ..., 0.10677107,\n",
       "         0.07709221, 0.00837409],\n",
       "        [0.08676732, 0.07175458, 0.00784423, ..., 0.14833433,\n",
       "         0.13216175, 0.02126278],\n",
       "        [0.20097922, 0.16528658, 0.03019517, ..., 0.07793343,\n",
       "         0.06781927, 0.045505  ],\n",
       "        [0.11426008, 0.07845665, 0.07693229, ..., 0.02865759,\n",
       "         0.08426684, 0.07521128],\n",
       "        [0.11711156, 0.13365352, 0.09112356, ..., 0.05635861,\n",
       "         0.02147912, 0.00239186]]])"
      ]
     },
     "execution_count": 15,
     "metadata": {},
     "output_type": "execute_result"
    }
   ],
   "source": [
    "psd_transformer.buffer_out.unstructured"
   ]
  }
 ],
 "metadata": {
  "kernelspec": {
   "display_name": "Python 3",
   "language": "python",
   "name": "python3"
  },
  "language_info": {
   "codemirror_mode": {
    "name": "ipython",
    "version": 3
   },
   "file_extension": ".py",
   "mimetype": "text/x-python",
   "name": "python",
   "nbconvert_exporter": "python",
   "pygments_lexer": "ipython3",
   "version": "3.7.0"
  }
 },
 "nbformat": 4,
 "nbformat_minor": 2
}
