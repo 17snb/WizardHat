{
 "cells": [
  {
   "cell_type": "code",
   "execution_count": 1,
   "metadata": {},
   "outputs": [],
   "source": [
    "import ble2lsl\n",
    "from ble2lsl.devices import muse2016\n",
    "from wizardhat import acquire, plot, transform\n",
    "import numpy as np"
   ]
  },
  {
   "cell_type": "code",
   "execution_count": 2,
   "metadata": {},
   "outputs": [
    {
     "name": "stdout",
     "output_type": "stream",
     "text": [
      "Using source with ID Muse-DUMMY\n"
     ]
    }
   ],
   "source": [
    "device = muse2016\n",
    "dummy_outlet = ble2lsl.Dummy(device)\n",
    "receiver = acquire.Receiver()"
   ]
  },
  {
   "cell_type": "code",
   "execution_count": 3,
   "metadata": {
    "scrolled": true
   },
   "outputs": [
    {
     "name": "stderr",
     "output_type": "stream",
     "text": [
      "Exception in thread Thread-11:\n",
      "Traceback (most recent call last):\n",
      "  File \"/usr/local/Cellar/python/3.7.0/Frameworks/Python.framework/Versions/3.7/lib/python3.7/threading.py\", line 917, in _bootstrap_inner\n",
      "    self.run()\n",
      "  File \"/usr/local/Cellar/python/3.7.0/Frameworks/Python.framework/Versions/3.7/lib/python3.7/threading.py\", line 865, in run\n",
      "    self._target(*self._args, **self._kwargs)\n",
      "  File \"/Users/benc/dev/merlin/WizardHat/wizardhat/acquire.py\", line 170, in _receive\n",
      "    self.buffers[name].update(timestamps, samples)\n",
      "  File \"/Users/benc/dev/merlin/WizardHat/wizardhat/buffers/buffers.py\", line 291, in update\n",
      "    self.update_with_structured(new)\n",
      "  File \"/Users/benc/dev/merlin/WizardHat/wizardhat/buffers/buffers.py\", line 301, in update_with_structured\n",
      "    self.event_hook.fire()\n",
      "  File \"/Users/benc/dev/merlin/WizardHat/wizardhat/utils.py\", line 47, in fire\n",
      "    handler(*args, **keywargs)\n",
      "  File \"/Users/benc/dev/merlin/WizardHat/wizardhat/transform/transform.py\", line 266, in _buffer_update_callback\n",
      "    self.buffer_out.update(timestamps,samples)\n",
      "  File \"/Users/benc/dev/merlin/WizardHat/wizardhat/buffers/buffers.py\", line 291, in update\n",
      "    self.update_with_structured(new)\n",
      "  File \"/Users/benc/dev/merlin/WizardHat/wizardhat/buffers/buffers.py\", line 301, in update_with_structured\n",
      "    self.event_hook.fire()\n",
      "  File \"/Users/benc/dev/merlin/WizardHat/wizardhat/utils.py\", line 47, in fire\n",
      "    handler(*args, **keywargs)\n",
      "  File \"/Users/benc/dev/merlin/WizardHat/wizardhat/transform/transform.py\", line 266, in _buffer_update_callback\n",
      "    self.buffer_out.update(timestamps,samples)\n",
      "AttributeError: 'Filter' object has no attribute 'buffer_out'\n",
      "\n"
     ]
    }
   ],
   "source": [
    "filter = transform.Filter(receiver.buffers['EEG'], 6, 8)"
   ]
  },
  {
   "cell_type": "code",
   "execution_count": null,
   "metadata": {},
   "outputs": [],
   "source": []
  }
 ],
 "metadata": {
  "kernelspec": {
   "display_name": "Python 3",
   "language": "python",
   "name": "python3"
  },
  "language_info": {
   "codemirror_mode": {
    "name": "ipython",
    "version": 3
   },
   "file_extension": ".py",
   "mimetype": "text/x-python",
   "name": "python",
   "nbconvert_exporter": "python",
   "pygments_lexer": "ipython3",
   "version": "3.7.0"
  }
 },
 "nbformat": 4,
 "nbformat_minor": 2
}
