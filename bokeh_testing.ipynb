{
 "cells": [
  {
   "cell_type": "code",
   "execution_count": 1,
   "metadata": {},
   "outputs": [],
   "source": [
    "import ble2lsl\n",
    "from ble2lsl.devices import muse2016\n",
    "from wizardhat import acquire\n",
    "import math\n",
    "import numpy as np\n",
    "from bokeh.plotting import figure, output_file, show\n",
    "from bokeh.models import ColumnDataSource\n",
    "from bokeh.transform import jitter\n"
   ]
  },
  {
   "cell_type": "code",
   "execution_count": 2,
   "metadata": {},
   "outputs": [],
   "source": [
    "dummy_outlet = ble2lsl.DummyStreamer(muse2016)\n",
    "streamer = acquire.LSLStreamer()\n"
   ]
  },
  {
   "cell_type": "code",
   "execution_count": null,
   "metadata": {},
   "outputs": [],
   "source": [
    "\n",
    "        "
   ]
  },
  {
   "cell_type": "code",
   "execution_count": 7,
   "metadata": {},
   "outputs": [],
   "source": [
    "#p = figure()\n",
    "class Lines():\n",
    "    \"\"\"Multiple (stacked) line plots.\n",
    "    Expects a two-dimensional `data.Data` object (such as `TimeSeries`) where\n",
    "    all columns after the first give the data used to plot individual lines.\n",
    "    Multiple data sources may be given in a list, assuming they have the same\n",
    "    form (number of channels and rows/samples); the user can cycle between\n",
    "    plots of each data source with the 'D' key.\n",
    "    \"\"\"\n",
    "    def __init__(self, data):\n",
    "        \"\"\"Construct a `Lines` instance.\n",
    "        Args:\n",
    "            data (data.Data or List[data.Data]): Data object(s) managing data\n",
    "                to be plotted. Multiple objects may be passed in a list, in\n",
    "                which case the plot can cycle through plotting the data in\n",
    "                each object by pressing 'd'. However, all data objects passed\n",
    "                should have a similar form (e.g. `TimeSeries` with same number\n",
    "                of rows/samples and channels).\n",
    "            plot_params (dict): Plot display parameters.\n",
    "        \"\"\"\n",
    "\n",
    "        try:\n",
    "            self.ch_names\n",
    "            self.data = [self.data]\n",
    "        except AttributeError:\n",
    "            pass\n",
    "        output_file('WizardHatDemo.html')\n",
    "        \n",
    "        self.data = data\n",
    "        self.start()\n",
    "    def start(self):\n",
    "\n",
    "        self.reformat_to_cds()\n",
    "        self.draw()\n",
    "\n",
    "    def reformat_to_cds(self):\n",
    "        data_dict = {'time':self.data.data['time']}\n",
    "        i=1\n",
    "        for chan in self.data.ch_names:\n",
    "            data_dict[chan] = self.data.data[chan]+(i*10)\n",
    "            i +=1\n",
    "        self.source = ColumnDataSource(data_dict)\n",
    "    \n",
    "    def draw(self):\n",
    "        y_range = self.data.ch_names\n",
    "        p = figure(plot_width=800,plot_height=600, x_axis_type='datetime')\n",
    "        \n",
    "        for chan in self.data.ch_names:\n",
    "            p.line(x='time',y=chan,source=self.source)\n",
    "            \n",
    "        show(p)\n",
    "\n"
   ]
  },
  {
   "cell_type": "code",
   "execution_count": 8,
   "metadata": {
    "scrolled": true
   },
   "outputs": [
    {
     "data": {
      "text/plain": [
       "<__main__.Lines at 0x11175d6a0>"
      ]
     },
     "execution_count": 8,
     "metadata": {},
     "output_type": "execute_result"
    }
   ],
   "source": [
    "Lines(streamer.data)"
   ]
  },
  {
   "cell_type": "code",
   "execution_count": 35,
   "metadata": {},
   "outputs": [
    {
     "data": {
      "text/plain": [
       "__main__.Lines"
      ]
     },
     "execution_count": 35,
     "metadata": {},
     "output_type": "execute_result"
    }
   ],
   "source": []
  },
  {
   "cell_type": "code",
   "execution_count": null,
   "metadata": {},
   "outputs": [],
   "source": []
  }
 ],
 "metadata": {
  "kernelspec": {
   "display_name": "Python 3",
   "language": "python",
   "name": "python3"
  },
  "language_info": {
   "codemirror_mode": {
    "name": "ipython",
    "version": 3
   },
   "file_extension": ".py",
   "mimetype": "text/x-python",
   "name": "python",
   "nbconvert_exporter": "python",
   "pygments_lexer": "ipython3",
   "version": "3.6.2"
  }
 },
 "nbformat": 4,
 "nbformat_minor": 2
}
