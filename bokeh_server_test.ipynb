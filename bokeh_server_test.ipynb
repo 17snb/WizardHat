{
 "cells": [
  {
   "cell_type": "code",
   "execution_count": 1,
   "metadata": {},
   "outputs": [],
   "source": [
    "import ble2lsl\n",
    "from ble2lsl.devices import muse2016\n",
    "from wizardhat import acquire\n",
    "\n",
    "from bokeh.server.server import Server\n",
    "from bokeh.application import Application\n",
    "from bokeh.application.handlers.function import FunctionHandler\n",
    "from bokeh.plotting import figure, ColumnDataSource\n",
    "import random"
   ]
  },
  {
   "cell_type": "code",
   "execution_count": 14,
   "metadata": {},
   "outputs": [],
   "source": [
    "# create a dummy stream\n",
    "dummy = ble2lsl.DummyStreamer(muse2016)\n",
    "streamer = acquire.LSLStreamer()"
   ]
  },
  {
   "cell_type": "code",
   "execution_count": 18,
   "metadata": {},
   "outputs": [],
   "source": [
    "def make_document(doc):\n",
    "    source = ColumnDataSource({'time': [], 'TP9': [], 'color': []})\n",
    "\n",
    "    def update():\n",
    "        new = {'time': streamer.data.data['time'],\n",
    "               'TP9': streamer.data.data['TP9']}\n",
    "        source.stream(new, rollover=streamer.data.data.size)\n",
    "\n",
    "    doc.add_periodic_callback(update, 100)\n",
    "\n",
    "    fig = figure(title='Dummy Data', sizing_mode='scale_width',\n",
    "                 x_range=[0, 1], y_range=[0, 1])\n",
    "    fig.line(source=source, x='time', y='TP9')\n",
    "\n",
    "    doc.title = \"WizardHat Testing\"\n",
    "    doc.add_root(fig)\n",
    "\n",
    "apps = {'/': Application(FunctionHandler(make_document))}"
   ]
  },
  {
   "cell_type": "code",
   "execution_count": 11,
   "metadata": {},
   "outputs": [],
   "source": [
    "server = Server(apps, port=5000)\n",
    "server.start()"
   ]
  },
  {
   "cell_type": "code",
   "execution_count": 12,
   "metadata": {},
   "outputs": [],
   "source": [
    "server.stop()"
   ]
  },
  {
   "cell_type": "code",
   "execution_count": 17,
   "metadata": {},
   "outputs": [
    {
     "data": {
      "text/plain": [
       "array([ ( 178.53515625,  1.07575059, -0.19888443, -0.70349026, -0.74854243, -0.81679809),\n",
       "       ( 178.5390625 , -1.2887491 , -0.13661264, -0.55783534, -0.02856768, -0.94565469),\n",
       "       ( 178.54296875,  1.57286167,  2.07539344,  1.62566245, -0.30894151,  0.75085372),\n",
       "       ...,\n",
       "       ( 188.5234375 ,  0.58126694,  3.15638638,  0.17173296,  0.29052922, -1.25246954),\n",
       "       ( 188.52734375,  1.82081246,  0.5466702 , -0.47989681, -1.42992091,  1.60071945),\n",
       "       ( 188.53125   , -1.05266988, -0.23178889, -1.11411929, -0.91358817, -0.90425074)],\n",
       "      dtype=[('time', '<f8'), ('TP9', '<f8'), ('AF7', '<f8'), ('AF8', '<f8'), ('TP10', '<f8'), ('Right AUX', '<f8')])"
      ]
     },
     "execution_count": 17,
     "metadata": {},
     "output_type": "execute_result"
    }
   ],
   "source": [
    "streamer.data.data"
   ]
  },
  {
   "cell_type": "code",
   "execution_count": null,
   "metadata": {},
   "outputs": [],
   "source": []
  }
 ],
 "metadata": {
  "kernelspec": {
   "display_name": "Python 3",
   "language": "python",
   "name": "python3"
  },
  "language_info": {
   "codemirror_mode": {
    "name": "ipython",
    "version": 3
   },
   "file_extension": ".py",
   "mimetype": "text/x-python",
   "name": "python",
   "nbconvert_exporter": "python",
   "pygments_lexer": "ipython3",
   "version": "3.6.5"
  }
 },
 "nbformat": 4,
 "nbformat_minor": 2
}
